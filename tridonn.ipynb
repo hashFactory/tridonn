{
 "cells": [
  {
   "cell_type": "code",
   "execution_count": 2,
   "id": "dee584d8-ce0e-45e3-ad8a-04644d8f2a8e",
   "metadata": {
    "tags": []
   },
   "outputs": [
    {
     "name": "stdout",
     "output_type": "stream",
     "text": [
      "Using cpu device\n"
     ]
    }
   ],
   "source": [
    "import os\n",
    "import torch\n",
    "from torch import nn\n",
    "from torch.utils.data import TensorDataset, DataLoader\n",
    "import torch.nn.functional as F\n",
    "from torch import optim\n",
    "import numpy as np\n",
    "from collections import OrderedDict\n",
    "import time\n",
    "import random\n",
    "import matplotlib.pyplot as plt\n",
    "\n",
    "device = \"cuda\" if torch.cuda.is_available() else \"cpu\"\n",
    "print(f\"Using {device} device\")"
   ]
  },
  {
   "cell_type": "code",
   "execution_count": 3,
   "id": "bb7e3f28-31cb-43ea-86e6-398a918dddd7",
   "metadata": {
    "tags": []
   },
   "outputs": [],
   "source": [
    "#synth_data = open(\"my_10k_synths.csv\", \"r\").readlines()\n",
    "#synth_data = open(\"rating_10k_synths.csv\", \"r\").readlines()\n",
    "synth_data = open(\"arjall_10k_synths.csv\", \"r\").readlines()\n",
    "\n",
    "\n",
    "train_test_percentage = 0.90\n",
    "cutoff = int(train_test_percentage * len(synth_data))\n",
    "\n",
    "# stupid extract data from csv\n",
    "# organized by:\n",
    "#  song_name | num of plays | [values...]\n",
    "lines = [l.replace('\\n', '').split('\\t') for l in synth_data]\n",
    "\n",
    "random.shuffle(lines)\n",
    "\n",
    "# 163 - 259\n",
    "my_x = [[float(i) for i in l[2+163:2+259]] for l in lines]\n",
    "\n",
    "# TODO: put back\n",
    "#my_x = [[float(i) for i in l[2:]] for l in lines]\n",
    "my_y = [float(l[1]) for l in lines]\n",
    "my_y_max = np.amax(my_y)\n",
    "\n",
    "my_y = [[(y/my_y_max)**(0.4)] for y in my_y]\n",
    "\n",
    "# splice dataset\n",
    "train_x = my_x[:cutoff]\n",
    "train_y = my_y[:cutoff]\n",
    "test_x = my_x[cutoff:]\n",
    "test_y = my_y[cutoff:]\n",
    "\n",
    "# prepare tensors\n",
    "tensor_train_x = torch.Tensor(train_x) # transform to torch tensor\n",
    "tensor_train_y = torch.Tensor(train_y)\n",
    "tensor_test_x = torch.Tensor(test_x) # transform to torch tensor\n",
    "tensor_test_y = torch.Tensor(test_y)\n",
    "\n",
    "train_dataset = TensorDataset(tensor_train_x,tensor_train_y) # create your datset\n",
    "train_dataloader = DataLoader(train_dataset) # create your dataloader\n",
    "test_dataset = TensorDataset(tensor_test_x,tensor_test_y) # create your datset\n",
    "test_dataloader = DataLoader(test_dataset) # create your dataloader\n"
   ]
  },
  {
   "cell_type": "code",
   "execution_count": 4,
   "id": "c281a90b-0c38-4f2e-8830-ab78d2cac9ef",
   "metadata": {
    "tags": []
   },
   "outputs": [
    {
     "data": {
      "text/plain": [
       "(array([1.615e+03, 3.021e+03, 1.464e+03, 9.040e+02, 7.020e+02, 5.840e+02,\n",
       "        4.210e+02, 3.340e+02, 2.370e+02, 1.560e+02, 1.090e+02, 8.100e+01,\n",
       "        5.000e+01, 2.900e+01, 1.200e+01, 1.000e+01, 9.000e+00, 1.000e+00,\n",
       "        3.000e+00, 2.000e+00]),\n",
       " array([2.94787753e-04, 5.02800484e-02, 1.00265309e-01, 1.50250570e-01,\n",
       "        2.00235830e-01, 2.50221091e-01, 3.00206351e-01, 3.50191612e-01,\n",
       "        4.00176873e-01, 4.50162133e-01, 5.00147394e-01, 5.50132654e-01,\n",
       "        6.00117915e-01, 6.50103176e-01, 7.00088436e-01, 7.50073697e-01,\n",
       "        8.00058958e-01, 8.50044218e-01, 9.00029479e-01, 9.50014739e-01,\n",
       "        1.00000000e+00]),\n",
       " <BarContainer object of 20 artists>)"
      ]
     },
     "execution_count": 4,
     "metadata": {},
     "output_type": "execute_result"
    },
    {
     "data": {
      "image/png": "[encoded data removed]",
      "text/plain": [
       "<Figure size 640x480 with 1 Axes>"
      ]
     },
     "metadata": {},
     "output_type": "display_data"
    }
   ],
   "source": [
    "fig, axs = plt.subplots(1, 1, sharey=True, tight_layout=True)\n",
    "\n",
    "# We can set the number of bins with the *bins* keyword argument.\n",
    "axs.hist([float(l[0]) for l in my_y], bins=20)"
   ]
  },
  {
   "cell_type": "code",
   "execution_count": 5,
   "id": "e31de980-ba60-49c8-b1dd-402b2183af69",
   "metadata": {
    "tags": []
   },
   "outputs": [],
   "source": [
    "# evaluate a single tensor\n",
    "def test_model(target):\n",
    "    #X = torch.rand(1, 527, 1, device=device)\n",
    "    #target = cutoff + 1\n",
    "    X = torch.tensor(my_x[target])\n",
    "    start = time.perf_counter_ns()\n",
    "    #print(X.shape)\n",
    "    logits = model(X)\n",
    "    end = time.perf_counter_ns()\n",
    "    print(f\"Testing took: {(end - start)/1000000}ms\")\n",
    "    print(f\"index[{target}] : {logits[0]:>0.4f} vs {my_y[target][0]:>0.4f}\")\n",
    "    #print(f\"Predicted class: {y_pred}\")"
   ]
  },
  {
   "cell_type": "code",
   "execution_count": 6,
   "id": "0c6bd177-7f67-4efa-967c-1c00df7720d6",
   "metadata": {
    "tags": []
   },
   "outputs": [],
   "source": [
    "def describe_model(model):\n",
    "    print(f\"Model structure: {model}\\n\\n\")\n",
    "\n",
    "    for name, param in model.named_parameters():\n",
    "        print(f\"Layer: {name} | Size: {param.size()} | Values : {param[:2]} \\n\")"
   ]
  },
  {
   "cell_type": "code",
   "execution_count": 7,
   "id": "d16f3437-e0b8-45a0-b1ef-a4528285764a",
   "metadata": {
    "tags": []
   },
   "outputs": [],
   "source": [
    "def train_epoch(dataloader, model, loss_fn, optimizer):\n",
    "    size = len(dataloader.dataset)\n",
    "    \n",
    "    model.train()\n",
    "    for batch, (X, y) in enumerate(dataloader):\n",
    "        # Compute prediction error\n",
    "        pred = model(X)\n",
    "        loss = loss_fn(pred, y)\n",
    "\n",
    "        # Backpropagation\n",
    "        optimizer.zero_grad()\n",
    "        loss.backward()\n",
    "        optimizer.step()\n",
    "\n",
    "        #if batch % 1 == 0:\n",
    "        loss, current = loss.item(), batch * len(X)\n",
    "        #print(f\"loss: {loss:>7f}  [{current:>5d}/{size:>5d}]\")\n",
    "\n",
    "#pdist = torch.nn.PairwiseDistance(p=2)\n",
    "def validate_epoch(dataloader, model, loss_fn):\n",
    "    size = len(dataloader.dataset) // int(1)\n",
    "    num_batches = len(dataloader)\n",
    "    model.eval()\n",
    "    test_loss, correct, errors = 0, 0, 0\n",
    "    with torch.no_grad():\n",
    "        for X, y in dataloader:\n",
    "            pred = model(X)\n",
    "            #print(f\"Got pred: {pred.sum().item()}\\tfor y: {y[0]}\")\n",
    "            test_loss += loss_fn(pred, y).item()\n",
    "            errors += (abs(pred.sum().item() - y[0]))\n",
    "    test_loss /= num_batches\n",
    "    errors /= size\n",
    "    correct = 1 - errors\n",
    "    if progress % 1 == 0 or progress == 0:\n",
    "        result = str(\n",
    "            f\"Epoch {str(progress).zfill(2)}  \"\n",
    "            #f\"Accuracy: {(100 * correct):>0.1f}%  \"\n",
    "            f\"Avg loss: {test_loss:>8f}  [{'X'*int(50*correct)}{'-'*int(50*(1-correct))}]\"\n",
    "        )\n",
    "        print(result)\n",
    "    return test_loss"
   ]
  },
  {
   "cell_type": "code",
   "execution_count": 8,
   "id": "8b9e8209-bd91-413e-b4c3-1e78d719c973",
   "metadata": {
    "tags": []
   },
   "outputs": [],
   "source": [
    "def export_model(expmodel):\n",
    "    dummy_input = torch.randn(1, 1, 96)\n",
    "    torch.onnx.export(expmodel,\n",
    "                 dummy_input,\n",
    "                 \"tridonn.onnx\",\n",
    "                 verbose=True,\n",
    "                 input_names=[\"dense1\"],\n",
    "                 output_names=[\"outact\"],\n",
    "                 export_params=True,\n",
    "                 )"
   ]
  },
  {
   "cell_type": "code",
   "execution_count": 9,
   "id": "68c1588c-f82c-4cd7-8e72-36424197130a",
   "metadata": {
    "tags": []
   },
   "outputs": [],
   "source": [
    "def rate_file(filename):\n",
    "    rate_file = open(filename, \"r\").readlines()\n",
    "    rate_lines = [l.replace('\\n', '').split('\\t') for l in rate_file]\n",
    "\n",
    "    # 163\n",
    "    my_test_x = [[float(i) for i in l[1+163:1+259]] for l in rate_lines[1:]]\n",
    "    song_names = [l[0] for l in rate_lines[1:]]\n",
    "    \n",
    "    #print(\"Song ratings: [0-1]\")\n",
    "    \n",
    "    results = {}\n",
    "    \n",
    "    model.eval()\n",
    "    \n",
    "    with torch.no_grad():\n",
    "        for i in range(len(my_test_x)):\n",
    "            X = torch.tensor(my_test_x[i])\n",
    "            song_name = song_names[i].split('/')[-1]\n",
    "            logits = model(X)\n",
    "            #end = time.perf_counter_ns()\n",
    "            #print(f\"Testing took: {(end - start)/1000000}ms\")\n",
    "            #print(f\"index[{target}] : {logits[0]:>0.4f} vs {my_y[target]:>0.4f}\")\n",
    "            results[song_name] = float(logits[0])\n",
    "\n",
    "            #print(f\"{song_name} = {logits[0]:>0.4f}\")\n",
    "    return results\n",
    "    "
   ]
  },
  {
   "cell_type": "code",
   "execution_count": 14,
   "id": "3dd17e2a-0ef8-4ebc-a06b-c9e7af429ae5",
   "metadata": {
    "tags": []
   },
   "outputs": [
    {
     "name": "stdout",
     "output_type": "stream",
     "text": [
      "Before:\n",
      "Testing took: 0.580874ms\n",
      "index[41] : -0.2096 vs 0.2247\n",
      "Epoch 00  Avg loss: 0.155716  [XXXXXXXXXXXXXXXXXXXXXXXXXXXXXXX------------------]\n",
      "\n",
      "Training:\n",
      "Epoch 01  Avg loss: 0.018046  [XXXXXXXXXXXXXXXXXXXXXXXXXXXXXXXXXXXXXXXXXXXX-----]\n",
      "0.212254: 35410166 - Galantis - Runaway (U & I) - Runaway (U & I).m4a.wav\n",
      "0.192383: 3670232 - Passion Pit - Manners - Sleepyhead.m4a.wav\n",
      "0.183075: 47696790 - Tame Impala - Currents - Nangs.m4a.wav\n",
      "0.175602: 245042536 - Childish Gambino - -Awaken, My Love!- - Me and Your Mama.m4a.wav\n",
      "0.174650: 74886176 - Portugal. The Man - Woodstock - Tidal Wave.m4a.wav \n",
      "\n",
      "0.094346: 3209964 - Deltron 3030 - Deltron 3030 - 3030.m4a.wav\n",
      "0.093226: 81466340 - Columbine - Clubbing For Columbine - Les prélis.m4a.wav\n",
      "0.075025: 209237077 - J. Cole - 2014 Forest Hills Drive - G.O.M.D.m4a.wav\n",
      "0.068903: 64230759 - Like - Songs Made While High - Mushroom Clouds.m4a.wav\n",
      "0.066917: 32823114 - Underworld - 1992 - 2012 - Born Slippy (Nuxx).m4a.wav \n",
      "\n",
      "Epoch 02  Avg loss: 0.017980  [XXXXXXXXXXXXXXXXXXXXXXXXXXXXXXXXXXXXXXXXXXXX-----]\n",
      "Epoch 03  Avg loss: 0.017946  [XXXXXXXXXXXXXXXXXXXXXXXXXXXXXXXXXXXXXXXXXXXX-----]\n",
      "Epoch 04  Avg loss: 0.017965  [XXXXXXXXXXXXXXXXXXXXXXXXXXXXXXXXXXXXXXXXXXXX-----]\n",
      "Epoch 05  Avg loss: 0.018003  [XXXXXXXXXXXXXXXXXXXXXXXXXXXXXXXXXXXXXXXXXXXX-----]\n",
      "Epoch 06  Avg loss: 0.017955  [XXXXXXXXXXXXXXXXXXXXXXXXXXXXXXXXXXXXXXXXXXXX-----]\n",
      "Epoch 07  Avg loss: 0.017916  [XXXXXXXXXXXXXXXXXXXXXXXXXXXXXXXXXXXXXXXXXXXX-----]\n",
      "Epoch 08  Avg loss: 0.017879  [XXXXXXXXXXXXXXXXXXXXXXXXXXXXXXXXXXXXXXXXXXXX-----]\n",
      "Epoch 09  Avg loss: 0.017843  [XXXXXXXXXXXXXXXXXXXXXXXXXXXXXXXXXXXXXXXXXXXX-----]\n",
      "Epoch 10  Avg loss: 0.017831  [XXXXXXXXXXXXXXXXXXXXXXXXXXXXXXXXXXXXXXXXXXXX-----]\n",
      "Epoch 11  Avg loss: 0.017835  [XXXXXXXXXXXXXXXXXXXXXXXXXXXXXXXXXXXXXXXXXXXX-----]\n",
      "Epoch 12  Avg loss: 0.017881  [XXXXXXXXXXXXXXXXXXXXXXXXXXXXXXXXXXXXXXXXXXXX-----]\n",
      "Epoch 13  Avg loss: 0.017846  [XXXXXXXXXXXXXXXXXXXXXXXXXXXXXXXXXXXXXXXXXXXX-----]\n",
      "Epoch 14  Avg loss: 0.017861  [XXXXXXXXXXXXXXXXXXXXXXXXXXXXXXXXXXXXXXXXXXXX-----]\n",
      "Epoch 15  Avg loss: 0.017869  [XXXXXXXXXXXXXXXXXXXXXXXXXXXXXXXXXXXXXXXXXXXX-----]\n",
      "Epoch 16  Avg loss: 0.017909  [XXXXXXXXXXXXXXXXXXXXXXXXXXXXXXXXXXXXXXXXXXXX-----]\n",
      "Epoch 17  Avg loss: 0.017895  [XXXXXXXXXXXXXXXXXXXXXXXXXXXXXXXXXXXXXXXXXXXX-----]\n",
      "Epoch 18  Avg loss: 0.017901  [XXXXXXXXXXXXXXXXXXXXXXXXXXXXXXXXXXXXXXXXXXXX-----]\n",
      "Epoch 19  Avg loss: 0.017908  [XXXXXXXXXXXXXXXXXXXXXXXXXXXXXXXXXXXXXXXXXXXX-----]\n",
      "Epoch 20  Avg loss: 0.017913  [XXXXXXXXXXXXXXXXXXXXXXXXXXXXXXXXXXXXXXXXXXXX-----]\n",
      "Epoch 21  Avg loss: 0.017914  [XXXXXXXXXXXXXXXXXXXXXXXXXXXXXXXXXXXXXXXXXXXX-----]\n",
      "0.259564: 35410166 - Galantis - Runaway (U & I) - Runaway (U & I).m4a.wav\n",
      "0.212785: 47696790 - Tame Impala - Currents - Nangs.m4a.wav\n",
      "0.205945: 68266840 - HOMESHAKE - Midnight Snack - Faded.m4a.wav\n",
      "0.203842: 61325600 - M83 - Do It, Try It (Remixes) - Do It, Try It.m4a.wav\n",
      "0.201929: 85108589 - Digitalism - Zdar C1u6 - Holograms.m4a.wav \n",
      "\n",
      "0.076852: 3209964 - Deltron 3030 - Deltron 3030 - 3030.m4a.wav\n",
      "0.066138: 209237077 - J. Cole - 2014 Forest Hills Drive - G.O.M.D.m4a.wav\n",
      "0.063142: 64230759 - Like - Songs Made While High - Mushroom Clouds.m4a.wav\n",
      "0.062299: 55391583 - Pink Floyd - A Foot in the Door- The Best of Pink Floyd - Comfortably Numb.m4a.wav\n",
      "0.008894: 32823114 - Underworld - 1992 - 2012 - Born Slippy (Nuxx).m4a.wav \n",
      "\n",
      "Training took: 126050.214824ms\n",
      "\n",
      "Testing:\n",
      "Testing took: 0.148701ms\n",
      "index[41] : 0.1143 vs 0.2247\n",
      "Testing took: 0.292183ms\n",
      "91991\n"
     ]
    }
   ],
   "source": [
    "#model = NeuralNetwork().to(device)\n",
    "\"\"\"\n",
    "N0 = 527\n",
    "N1 = 1000\n",
    "N2 = 1\n",
    "#NX = 1\n",
    "\n",
    "model = nn.Sequential(OrderedDict([\n",
    "    ('dense1', nn.Linear(N0, N1)),\n",
    "    ('act1', nn.ReLU()),\n",
    "    ('dense2', nn.Linear(N1, N2)),\n",
    "    #('act2', nn.ReLU()),\n",
    "    #('output', nn.Linear(N2, NX)),\n",
    "    ('outact', nn.Sigmoid()),\n",
    "]))\n",
    "\"\"\"\n",
    "SN0 = 96\n",
    "\n",
    "N0 = 96\n",
    "N1 = 192\n",
    "N2 = 20\n",
    "N3 = 1\n",
    "NX = 1\n",
    "\n",
    "model = nn.Sequential(OrderedDict([\n",
    "    ('dense1', nn.Linear(N0, N1, True)),\n",
    "    ('act1', nn.Tanh()),\n",
    "    ('dense2', nn.Linear(N1, N2, True)),\n",
    "    ('act2', nn.Tanh()),\n",
    "    #('dropout', nn.Dropout()),\n",
    "    #('dense3', nn.Linear(N1, N1, True)),\n",
    "    #('act3', nn.Tanh()),\n",
    "    #('dense4', nn.Linear(N1, N2, True)),\n",
    "    #('act4', nn.Tanh()),\n",
    "    \n",
    "    #('dense3', nn.Linear(N15, N2, True)),\n",
    "    #('act3', nn.Tanh()),\n",
    "    ('output', nn.Linear(N2, N3)),\n",
    "    #('act3', nn.ReLU()),\n",
    "    #('output2', nn.Linear(N3, NX)),\n",
    "    #('outact', nn.Sigmoid()),\n",
    "]))\n",
    "\n",
    "loss_fn = nn.MSELoss()\n",
    "optimizer = optim.Adam(model.parameters())\n",
    "#optimizer = optim.SGD(model.parameters(), lr=0.02, momentum=0.95)\n",
    "epochs = 21\n",
    "progress = 0\n",
    "\n",
    "target = 41\n",
    "\n",
    "# before training (sanity check)\n",
    "print(\"Before:\")\n",
    "test_model(target)\n",
    "\n",
    "loss = validate_epoch(test_dataloader, model, loss_fn)\n",
    "\n",
    "train_time = 0\n",
    "print(\"\\nTraining:\")\n",
    "\n",
    "should_eval = True\n",
    "\n",
    "for i in range(epochs):\n",
    "    progress += 1\n",
    "    start = time.perf_counter_ns()\n",
    "    #train_dataloader = DataLoader(train_dataset, shuffle=True) # create your dataloader\n",
    "\n",
    "    train_epoch(train_dataloader, model, loss_fn, optimizer)\n",
    "    train_time += time.perf_counter_ns() - start\n",
    "    loss = validate_epoch(test_dataloader, model, loss_fn)\n",
    "    \n",
    "    #print(loss)\n",
    "    \n",
    "    should_eval = i % 20 == 0\n",
    "    \n",
    "    # eval\n",
    "    if should_eval:\n",
    "        values = rate_file(\"my_fun_playlist.csv\")\n",
    "        print('\\n'.join([f\"{f[1]:>6f}: {f[0]}\" for f in sorted(values.items(), key=lambda x: -x[1])[:5]]), \"\\n\")\n",
    "        print('\\n'.join([f\"{f[1]:>6f}: {f[0]}\" for f in sorted(values.items(), key=lambda x: -x[1])[-5:]]), \"\\n\")\n",
    "    #session.report(dict(loss=loss))\n",
    "\n",
    "print(f\"Training took: {(train_time)/1000000}ms\")\n",
    "\n",
    "print(\"\\nTesting:\")\n",
    "start = time.perf_counter_ns()\n",
    "test_model(target)\n",
    "end = time.perf_counter_ns()\n",
    "print(f\"Testing took: {(end - start)/1000000}ms\")\n",
    "    \n",
    "torch.save(model.state_dict(), 'tridonn')\n",
    "print(os.path.getsize('tridonn'))"
   ]
  },
  {
   "cell_type": "code",
   "execution_count": 52,
   "id": "be9df99f-b383-4269-ba2a-9d132e7806e5",
   "metadata": {
    "tags": []
   },
   "outputs": [
    {
     "name": "stdout",
     "output_type": "stream",
     "text": [
      "Exported graph: graph(%dense1 : Float(1, 1, 96, strides=[96, 96, 1], requires_grad=0, device=cpu),\n",
      "      %dense1.bias : Float(192, strides=[1], requires_grad=1, device=cpu),\n",
      "      %dense2.bias : Float(20, strides=[1], requires_grad=1, device=cpu),\n",
      "      %output.bias : Float(1, strides=[1], requires_grad=1, device=cpu),\n",
      "      %onnx::MatMul_19 : Float(96, 192, strides=[1, 96], requires_grad=0, device=cpu),\n",
      "      %onnx::MatMul_20 : Float(192, 20, strides=[1, 192], requires_grad=0, device=cpu),\n",
      "      %onnx::MatMul_21 : Float(20, 1, strides=[1, 20], requires_grad=0, device=cpu)):\n",
      "  %/dense1/MatMul_output_0 : Float(1, 1, 192, strides=[192, 192, 1], device=cpu) = onnx::MatMul[onnx_name=\"/dense1/MatMul\"](%dense1, %onnx::MatMul_19), scope: torch.nn.modules.container.Sequential::/torch.nn.modules.linear.Linear::dense1 # /home/tristan/.local/lib/python3.10/site-packages/torch/nn/modules/linear.py:114:0\n",
      "  %/dense1/Add_output_0 : Float(1, 1, 192, strides=[192, 192, 1], requires_grad=1, device=cpu) = onnx::Add[onnx_name=\"/dense1/Add\"](%dense1.bias, %/dense1/MatMul_output_0), scope: torch.nn.modules.container.Sequential::/torch.nn.modules.linear.Linear::dense1 # /home/tristan/.local/lib/python3.10/site-packages/torch/nn/modules/linear.py:114:0\n",
      "  %/act1/Tanh_output_0 : Float(1, 1, 192, strides=[192, 192, 1], requires_grad=1, device=cpu) = onnx::Tanh[onnx_name=\"/act1/Tanh\"](%/dense1/Add_output_0), scope: torch.nn.modules.container.Sequential::/torch.nn.modules.activation.Tanh::act1 # /home/tristan/.local/lib/python3.10/site-packages/torch/nn/modules/activation.py:358:0\n",
      "  %/dense2/MatMul_output_0 : Float(1, 1, 20, strides=[20, 20, 1], device=cpu) = onnx::MatMul[onnx_name=\"/dense2/MatMul\"](%/act1/Tanh_output_0, %onnx::MatMul_20), scope: torch.nn.modules.container.Sequential::/torch.nn.modules.linear.Linear::dense2 # /home/tristan/.local/lib/python3.10/site-packages/torch/nn/modules/linear.py:114:0\n",
      "  %/dense2/Add_output_0 : Float(1, 1, 20, strides=[20, 20, 1], requires_grad=1, device=cpu) = onnx::Add[onnx_name=\"/dense2/Add\"](%dense2.bias, %/dense2/MatMul_output_0), scope: torch.nn.modules.container.Sequential::/torch.nn.modules.linear.Linear::dense2 # /home/tristan/.local/lib/python3.10/site-packages/torch/nn/modules/linear.py:114:0\n",
      "  %/act2/Tanh_output_0 : Float(1, 1, 20, strides=[20, 20, 1], requires_grad=1, device=cpu) = onnx::Tanh[onnx_name=\"/act2/Tanh\"](%/dense2/Add_output_0), scope: torch.nn.modules.container.Sequential::/torch.nn.modules.activation.Tanh::act2 # /home/tristan/.local/lib/python3.10/site-packages/torch/nn/modules/activation.py:358:0\n",
      "  %/output/MatMul_output_0 : Float(1, 1, 1, strides=[1, 1, 1], device=cpu) = onnx::MatMul[onnx_name=\"/output/MatMul\"](%/act2/Tanh_output_0, %onnx::MatMul_21), scope: torch.nn.modules.container.Sequential::/torch.nn.modules.linear.Linear::output # /home/tristan/.local/lib/python3.10/site-packages/torch/nn/modules/linear.py:114:0\n",
      "  %/output/Add_output_0 : Float(1, 1, 1, strides=[1, 1, 1], requires_grad=1, device=cpu) = onnx::Add[onnx_name=\"/output/Add\"](%output.bias, %/output/MatMul_output_0), scope: torch.nn.modules.container.Sequential::/torch.nn.modules.linear.Linear::output # /home/tristan/.local/lib/python3.10/site-packages/torch/nn/modules/linear.py:114:0\n",
      "  %outact : Float(1, 1, 1, strides=[1, 1, 1], requires_grad=1, device=cpu) = onnx::Sigmoid[onnx_name=\"/outact/Sigmoid\"](%/output/Add_output_0), scope: torch.nn.modules.container.Sequential::/torch.nn.modules.activation.Sigmoid::outact # /home/tristan/.local/lib/python3.10/site-packages/torch/nn/modules/activation.py:294:0\n",
      "  return (%outact)\n",
      "\n"
     ]
    }
   ],
   "source": [
    "# export for onnx\n",
    "export_model(model)"
   ]
  },
  {
   "cell_type": "code",
   "execution_count": 136,
   "id": "fe195396-3199-433e-a1b9-c500159e4628",
   "metadata": {},
   "outputs": [
    {
     "name": "stdout",
     "output_type": "stream",
     "text": [
      "Epoch 02  Accuracy: 60.1%  Avg loss: 0.398816  [XXXXXXXXXXXXXXXXXXXXXXXXXXXXXX-------------------]\n",
      "\n",
      "Training 50 10:\n",
      "Epoch 02  Accuracy: 88.2%  Avg loss: 0.117912  [XXXXXXXXXXXXXXXXXXXXXXXXXXXXXXXXXXXXXXXXXXXX-----]\n",
      "Epoch 02  Accuracy: 94.5%  Avg loss: 0.055056  [XXXXXXXXXXXXXXXXXXXXXXXXXXXXXXXXXXXXXXXXXXXXXXX--]\n",
      "Epoch 02  Accuracy: 94.6%  Avg loss: 0.054162  [XXXXXXXXXXXXXXXXXXXXXXXXXXXXXXXXXXXXXXXXXXXXXXX--]\n",
      "Epoch 02  Accuracy: 94.6%  Avg loss: 0.054163  [XXXXXXXXXXXXXXXXXXXXXXXXXXXXXXXXXXXXXXXXXXXXXXX--]\n",
      "Training took: 11129.644717ms\n",
      "Testing took: 0.384089ms\n",
      "index[41] : 0.1846 vs 0.0820\n",
      "Testing took: 0.487468ms\n",
      "Epoch 02  Accuracy: 59.8%  Avg loss: 0.401754  [XXXXXXXXXXXXXXXXXXXXXXXXXXXXX--------------------]\n",
      "\n",
      "Training 50 110:\n",
      "Epoch 02  Accuracy: 92.0%  Avg loss: 0.080398  [XXXXXXXXXXXXXXXXXXXXXXXXXXXXXXXXXXXXXXXXXXXXX----]\n",
      "Epoch 02  Accuracy: 94.6%  Avg loss: 0.054182  [XXXXXXXXXXXXXXXXXXXXXXXXXXXXXXXXXXXXXXXXXXXXXXX--]\n",
      "Epoch 02  Accuracy: 94.6%  Avg loss: 0.054164  [XXXXXXXXXXXXXXXXXXXXXXXXXXXXXXXXXXXXXXXXXXXXXXX--]\n",
      "Epoch 02  Accuracy: 94.6%  Avg loss: 0.054165  [XXXXXXXXXXXXXXXXXXXXXXXXXXXXXXXXXXXXXXXXXXXXXXX--]\n",
      "Training took: 11184.852568ms\n",
      "Testing took: 0.476434ms\n",
      "index[41] : 0.1846 vs 0.0820\n",
      "Testing took: 0.590181ms\n",
      "Epoch 02  Accuracy: 58.7%  Avg loss: 0.412802  [XXXXXXXXXXXXXXXXXXXXXXXXXXXXX--------------------]\n",
      "\n",
      "Training 50 210:\n",
      "Epoch 02  Accuracy: 93.2%  Avg loss: 0.067526  [XXXXXXXXXXXXXXXXXXXXXXXXXXXXXXXXXXXXXXXXXXXXXX---]\n",
      "Epoch 02  Accuracy: 94.6%  Avg loss: 0.054174  [XXXXXXXXXXXXXXXXXXXXXXXXXXXXXXXXXXXXXXXXXXXXXXX--]\n",
      "Epoch 02  Accuracy: 94.6%  Avg loss: 0.054174  [XXXXXXXXXXXXXXXXXXXXXXXXXXXXXXXXXXXXXXXXXXXXXXX--]\n",
      "Epoch 02  Accuracy: 94.6%  Avg loss: 0.054172  [XXXXXXXXXXXXXXXXXXXXXXXXXXXXXXXXXXXXXXXXXXXXXXX--]\n",
      "Training took: 11686.991254ms\n",
      "Testing took: 0.453436ms\n",
      "index[41] : 0.1846 vs 0.0820\n",
      "Testing took: 0.562543ms\n",
      "Epoch 02  Accuracy: 60.5%  Avg loss: 0.394876  [XXXXXXXXXXXXXXXXXXXXXXXXXXXXXX-------------------]\n",
      "\n",
      "Training 250 10:\n",
      "Epoch 02  Accuracy: 85.1%  Avg loss: 0.149415  [XXXXXXXXXXXXXXXXXXXXXXXXXXXXXXXXXXXXXXXXXX-------]\n",
      "Epoch 02  Accuracy: 93.7%  Avg loss: 0.062862  [XXXXXXXXXXXXXXXXXXXXXXXXXXXXXXXXXXXXXXXXXXXXXX---]\n",
      "Epoch 02  Accuracy: 94.6%  Avg loss: 0.054244  [XXXXXXXXXXXXXXXXXXXXXXXXXXXXXXXXXXXXXXXXXXXXXXX--]\n",
      "Epoch 02  Accuracy: 94.6%  Avg loss: 0.054181  [XXXXXXXXXXXXXXXXXXXXXXXXXXXXXXXXXXXXXXXXXXXXXXX--]\n",
      "Training took: 11842.319372ms\n",
      "Testing took: 0.424242ms\n",
      "index[41] : 0.1846 vs 0.0820\n",
      "Testing took: 0.526978ms\n",
      "Epoch 02  Accuracy: 59.7%  Avg loss: 0.403063  [XXXXXXXXXXXXXXXXXXXXXXXXXXXXX--------------------]\n",
      "\n",
      "Training 250 110:\n",
      "Epoch 02  Accuracy: 88.6%  Avg loss: 0.114273  [XXXXXXXXXXXXXXXXXXXXXXXXXXXXXXXXXXXXXXXXXXXX-----]\n",
      "Epoch 02  Accuracy: 94.5%  Avg loss: 0.054562  [XXXXXXXXXXXXXXXXXXXXXXXXXXXXXXXXXXXXXXXXXXXXXXX--]\n"
     ]
    },
    {
     "ename": "KeyboardInterrupt",
     "evalue": "",
     "output_type": "error",
     "traceback": [
      "\u001b[0;31m---------------------------------------------------------------------------\u001b[0m",
      "\u001b[0;31mKeyboardInterrupt\u001b[0m                         Traceback (most recent call last)",
      "Cell \u001b[0;32mIn[136], line 69\u001b[0m\n\u001b[1;32m     67\u001b[0m \u001b[38;5;28;01mfor\u001b[39;00m n1 \u001b[38;5;129;01min\u001b[39;00m n1_range:\n\u001b[1;32m     68\u001b[0m     \u001b[38;5;28;01mfor\u001b[39;00m n2 \u001b[38;5;129;01min\u001b[39;00m n2_range:\n\u001b[0;32m---> 69\u001b[0m         \u001b[43mhyper_train_step\u001b[49m\u001b[43m(\u001b[49m\u001b[43mn1\u001b[49m\u001b[43m,\u001b[49m\u001b[43m \u001b[49m\u001b[43mn2\u001b[49m\u001b[43m)\u001b[49m\n\u001b[1;32m     71\u001b[0m results\u001b[38;5;241m.\u001b[39mclose()\n",
      "Cell \u001b[0;32mIn[136], line 41\u001b[0m, in \u001b[0;36mhyper_train_step\u001b[0;34m(N1, N2)\u001b[0m\n\u001b[1;32m     39\u001b[0m progress \u001b[38;5;241m+\u001b[39m\u001b[38;5;241m=\u001b[39m \u001b[38;5;241m1\u001b[39m\n\u001b[1;32m     40\u001b[0m start \u001b[38;5;241m=\u001b[39m time\u001b[38;5;241m.\u001b[39mperf_counter_ns()\n\u001b[0;32m---> 41\u001b[0m \u001b[43mtrain_epoch\u001b[49m\u001b[43m(\u001b[49m\u001b[43mtrain_dataloader\u001b[49m\u001b[43m,\u001b[49m\u001b[43m \u001b[49m\u001b[43mmodel\u001b[49m\u001b[43m,\u001b[49m\u001b[43m \u001b[49m\u001b[43mloss_fn\u001b[49m\u001b[43m,\u001b[49m\u001b[43m \u001b[49m\u001b[43moptimizer\u001b[49m\u001b[43m)\u001b[49m\n\u001b[1;32m     42\u001b[0m train_time \u001b[38;5;241m+\u001b[39m\u001b[38;5;241m=\u001b[39m time\u001b[38;5;241m.\u001b[39mperf_counter_ns() \u001b[38;5;241m-\u001b[39m start\n\u001b[1;32m     43\u001b[0m loss \u001b[38;5;241m=\u001b[39m validate_epoch(test_dataloader, model, loss_fn)\n",
      "Cell \u001b[0;32mIn[130], line 12\u001b[0m, in \u001b[0;36mtrain_epoch\u001b[0;34m(dataloader, model, loss_fn, optimizer)\u001b[0m\n\u001b[1;32m     10\u001b[0m \u001b[38;5;66;03m# Backpropagation\u001b[39;00m\n\u001b[1;32m     11\u001b[0m optimizer\u001b[38;5;241m.\u001b[39mzero_grad()\n\u001b[0;32m---> 12\u001b[0m \u001b[43mloss\u001b[49m\u001b[38;5;241;43m.\u001b[39;49m\u001b[43mbackward\u001b[49m\u001b[43m(\u001b[49m\u001b[43m)\u001b[49m\n\u001b[1;32m     13\u001b[0m optimizer\u001b[38;5;241m.\u001b[39mstep()\n\u001b[1;32m     15\u001b[0m \u001b[38;5;28;01mif\u001b[39;00m batch \u001b[38;5;241m%\u001b[39m \u001b[38;5;241m1\u001b[39m \u001b[38;5;241m==\u001b[39m \u001b[38;5;241m1\u001b[39m:\n",
      "File \u001b[0;32m~/.local/lib/python3.10/site-packages/torch/_tensor.py:488\u001b[0m, in \u001b[0;36mTensor.backward\u001b[0;34m(self, gradient, retain_graph, create_graph, inputs)\u001b[0m\n\u001b[1;32m    478\u001b[0m \u001b[38;5;28;01mif\u001b[39;00m has_torch_function_unary(\u001b[38;5;28mself\u001b[39m):\n\u001b[1;32m    479\u001b[0m     \u001b[38;5;28;01mreturn\u001b[39;00m handle_torch_function(\n\u001b[1;32m    480\u001b[0m         Tensor\u001b[38;5;241m.\u001b[39mbackward,\n\u001b[1;32m    481\u001b[0m         (\u001b[38;5;28mself\u001b[39m,),\n\u001b[0;32m   (...)\u001b[0m\n\u001b[1;32m    486\u001b[0m         inputs\u001b[38;5;241m=\u001b[39minputs,\n\u001b[1;32m    487\u001b[0m     )\n\u001b[0;32m--> 488\u001b[0m \u001b[43mtorch\u001b[49m\u001b[38;5;241;43m.\u001b[39;49m\u001b[43mautograd\u001b[49m\u001b[38;5;241;43m.\u001b[39;49m\u001b[43mbackward\u001b[49m\u001b[43m(\u001b[49m\n\u001b[1;32m    489\u001b[0m \u001b[43m    \u001b[49m\u001b[38;5;28;43mself\u001b[39;49m\u001b[43m,\u001b[49m\u001b[43m \u001b[49m\u001b[43mgradient\u001b[49m\u001b[43m,\u001b[49m\u001b[43m \u001b[49m\u001b[43mretain_graph\u001b[49m\u001b[43m,\u001b[49m\u001b[43m \u001b[49m\u001b[43mcreate_graph\u001b[49m\u001b[43m,\u001b[49m\u001b[43m \u001b[49m\u001b[43minputs\u001b[49m\u001b[38;5;241;43m=\u001b[39;49m\u001b[43minputs\u001b[49m\n\u001b[1;32m    490\u001b[0m \u001b[43m\u001b[49m\u001b[43m)\u001b[49m\n",
      "File \u001b[0;32m~/.local/lib/python3.10/site-packages/torch/autograd/__init__.py:197\u001b[0m, in \u001b[0;36mbackward\u001b[0;34m(tensors, grad_tensors, retain_graph, create_graph, grad_variables, inputs)\u001b[0m\n\u001b[1;32m    192\u001b[0m     retain_graph \u001b[38;5;241m=\u001b[39m create_graph\n\u001b[1;32m    194\u001b[0m \u001b[38;5;66;03m# The reason we repeat same the comment below is that\u001b[39;00m\n\u001b[1;32m    195\u001b[0m \u001b[38;5;66;03m# some Python versions print out the first line of a multi-line function\u001b[39;00m\n\u001b[1;32m    196\u001b[0m \u001b[38;5;66;03m# calls in the traceback and some print out the last line\u001b[39;00m\n\u001b[0;32m--> 197\u001b[0m \u001b[43mVariable\u001b[49m\u001b[38;5;241;43m.\u001b[39;49m\u001b[43m_execution_engine\u001b[49m\u001b[38;5;241;43m.\u001b[39;49m\u001b[43mrun_backward\u001b[49m\u001b[43m(\u001b[49m\u001b[43m  \u001b[49m\u001b[38;5;66;43;03m# Calls into the C++ engine to run the backward pass\u001b[39;49;00m\n\u001b[1;32m    198\u001b[0m \u001b[43m    \u001b[49m\u001b[43mtensors\u001b[49m\u001b[43m,\u001b[49m\u001b[43m \u001b[49m\u001b[43mgrad_tensors_\u001b[49m\u001b[43m,\u001b[49m\u001b[43m \u001b[49m\u001b[43mretain_graph\u001b[49m\u001b[43m,\u001b[49m\u001b[43m \u001b[49m\u001b[43mcreate_graph\u001b[49m\u001b[43m,\u001b[49m\u001b[43m \u001b[49m\u001b[43minputs\u001b[49m\u001b[43m,\u001b[49m\n\u001b[1;32m    199\u001b[0m \u001b[43m    \u001b[49m\u001b[43mallow_unreachable\u001b[49m\u001b[38;5;241;43m=\u001b[39;49m\u001b[38;5;28;43;01mTrue\u001b[39;49;00m\u001b[43m,\u001b[49m\u001b[43m \u001b[49m\u001b[43maccumulate_grad\u001b[49m\u001b[38;5;241;43m=\u001b[39;49m\u001b[38;5;28;43;01mTrue\u001b[39;49;00m\u001b[43m)\u001b[49m\n",
      "\u001b[0;31mKeyboardInterrupt\u001b[0m: "
     ]
    }
   ],
   "source": [
    "res_name = \"instances_my\"\n",
    "\n",
    "results = open(f\"{res_name}_results.txt\", \"w\")\n",
    "\n",
    "#os.mkdir(res_name)\n",
    "\n",
    "def hyper_train_step(N1, N2):\n",
    "    N0 = 527\n",
    "    NX = 1\n",
    "\n",
    "    model = nn.Sequential(OrderedDict([\n",
    "        ('dense1', nn.Linear(N0, N1)),\n",
    "        ('act1', nn.ReLU()),\n",
    "        ('dense2', nn.Linear(N1, N2)),\n",
    "        ('act2', nn.ReLU()),\n",
    "        ('output', nn.Linear(N2, NX)),\n",
    "        ('outact', nn.Sigmoid()),\n",
    "    ]))\n",
    "\n",
    "    loss_fn = nn.L1Loss()\n",
    "    optimizer = optim.SGD(model.parameters(), lr=0.0008)\n",
    "    epochs = 4\n",
    "    progress = 0\n",
    "\n",
    "    target = 41\n",
    "\n",
    "    # before training (sanity check)\n",
    "    #print(\"Before:\")\n",
    "    #test_model(target)\n",
    "\n",
    "    loss = validate_epoch(test_dataloader, model, loss_fn)\n",
    "\n",
    "    train_time = 0\n",
    "    print(f\"\\nTraining {N1} {N2}:\")\n",
    "\n",
    "    should_eval = False\n",
    "\n",
    "    for i in range(epochs):\n",
    "        progress += 1\n",
    "        start = time.perf_counter_ns()\n",
    "        train_epoch(train_dataloader, model, loss_fn, optimizer)\n",
    "        train_time += time.perf_counter_ns() - start\n",
    "        loss = validate_epoch(test_dataloader, model, loss_fn)\n",
    "\n",
    "        results.write(f\"{N1} {N2} {loss}\\n\")\n",
    "        \n",
    "        # eval\n",
    "        if should_eval:\n",
    "            values = rate_file(\"my_fun_playlist.csv\")\n",
    "            print('\\n'.join([f\"{f[0]}: {f[1]}\" for f in sorted(values.items(), key=lambda x: -x[1])[:5]]))\n",
    "            print('\\n'.join([f\"{f[0]}: {f[1]}\" for f in sorted(values.items(), key=lambda x: -x[1])[-5:]]))\n",
    "        #session.report(dict(loss=loss))\n",
    "\n",
    "    print(f\"Training took: {(train_time)/1000000}ms\")\n",
    "\n",
    "    #print(\"\\nTesting:\")\n",
    "    start = time.perf_counter_ns()\n",
    "    test_model(target)\n",
    "    end = time.perf_counter_ns()\n",
    "    print(f\"Testing took: {(end - start)/1000000}ms\")\n",
    "\n",
    "    torch.save(model.state_dict(), f'{res_name}/tridonn_{N1}_{N2}')\n",
    "\n",
    "n1_range = range(50, 2550, 200)\n",
    "n2_range = range(10, 220, 100)\n",
    "\n",
    "for n1 in n1_range:\n",
    "    for n2 in n2_range:\n",
    "        hyper_train_step(n1, n2)\n",
    "        \n",
    "results.close()"
   ]
  },
  {
   "cell_type": "markdown",
   "id": "99081a14-7c72-412f-b79f-9a0d774ca3e7",
   "metadata": {},
   "source": [
    "### Inference"
   ]
  },
  {
   "cell_type": "code",
   "execution_count": null,
   "id": "fcc888b0-0478-4d6c-b1bb-3b09c6e0c459",
   "metadata": {},
   "outputs": [],
   "source": [
    "start = time.perf_counter_ns()\n",
    "\n",
    "#values = rate_file(\"addict11-loved-tracks_ana_results.csv\")\n",
    "values = rate_file(\"my_fun_playlist.csv\")\n",
    "\n",
    "end = time.perf_counter_ns()\n",
    "print(f\"Testing took: {(end - start)/1000000}ms\")\n",
    "dict(sorted(values.items(), key=lambda x: -x[1]))"
   ]
  },
  {
   "cell_type": "code",
   "execution_count": null,
   "id": "17f64e49-0433-4383-954c-e684afa0a00e",
   "metadata": {},
   "outputs": [
    {
     "name": "stdout",
     "output_type": "stream",
     "text": [
      "index[2237] : 0.0323 vs 0.0247\n"
     ]
    }
   ],
   "source": [
    "#test_model(2237)"
   ]
  },
  {
   "cell_type": "markdown",
   "id": "fb1c701d-fe63-44e1-9e0d-dcca33174bf6",
   "metadata": {},
   "source": [
    "## Hyperparameter stuff"
   ]
  },
  {
   "cell_type": "markdown",
   "id": "205992e4-4c5f-4b79-9513-1943a7b41849",
   "metadata": {},
   "source": [
    "# Useless stuff"
   ]
  },
  {
   "cell_type": "code",
   "execution_count": 89,
   "id": "23badfb6-5af8-4dca-8fcc-8b60f967c5cf",
   "metadata": {},
   "outputs": [
    {
     "data": {
      "text/plain": [
       "'********'"
      ]
     },
     "execution_count": 89,
     "metadata": {},
     "output_type": "execute_result"
    }
   ],
   "source": [
    "\"*\"*8"
   ]
  },
  {
   "cell_type": "code",
   "execution_count": 12,
   "id": "8c506d40-ee06-4b5c-b14c-552dd8abf35d",
   "metadata": {},
   "outputs": [],
   "source": [
    "\n",
    "def train_func(config):\n",
    "    batch_size = config[\"batch_size\"]\n",
    "    lr = config[\"lr\"]\n",
    "    epochs = config[\"epochs\"]\n",
    "\n",
    "    worker_batch_size = 2\n",
    "    #worker_batch_size = batch_size // session.get_world_size()\n",
    "\n",
    "    # Create data loaders.\n",
    "    train_dataloader = DataLoader(training_data, batch_size=worker_batch_size)\n",
    "    test_dataloader = DataLoader(test_data, batch_size=worker_batch_size)\n",
    "\n",
    "    train_dataloader = train.torch.prepare_data_loader(train_dataloader)\n",
    "    test_dataloader = train.torch.prepare_data_loader(test_dataloader)\n",
    "\n",
    "    # Create model.\n",
    "    model = NeuralNetwork()\n",
    "    model = train.torch.prepare_model(model)\n",
    "\n",
    "    loss_fn = nn.CrossEntropyLoss()\n",
    "    optimizer = torch.optim.SGD(model.parameters(), lr=lr)\n",
    "\n",
    "    for _ in range(epochs):\n",
    "        train_epoch(train_dataloader, model, loss_fn, optimizer)\n",
    "        loss = validate_epoch(test_dataloader, model, loss_fn)\n",
    "        session.report(dict(loss=loss))\n",
    "\n",
    "#train_func({\"lr\": 1e-3, \"batch_size\": 64, \"epochs\": 4})\n",
    "#print(f\"Last result: {result.metrics}\")"
   ]
  },
  {
   "cell_type": "code",
   "execution_count": 73,
   "id": "f8f21dd1-f93b-45ad-9581-2421ecc287f1",
   "metadata": {},
   "outputs": [],
   "source": [
    "class NeuralNetwork(nn.Module):\n",
    "    def __init__(self):\n",
    "        super(NeuralNetwork, self).__init__()\n",
    "        self.flatten = nn.Flatten()\n",
    "        self.linear_relu_stack = nn.Sequential(\n",
    "            nn.Linear(527, 1024),\n",
    "            nn.ReLU(),\n",
    "            nn.Linear(1024, 100),\n",
    "            nn.ReLU(),\n",
    "            #nn.Linear(527, 20),\n",
    "            #nn.ReLU(),\n",
    "            nn.Linear(100, 1),\n",
    "            nn.Sigmoid(),\n",
    "        )\n",
    "\n",
    "    def forward(self, x):\n",
    "        #x = F.relu(self.linear_relu_stack[0](x))\n",
    "        #x = F.relu(self.linear_relu_stack[1](x))\n",
    "        x = self.flatten(x)\n",
    "        logits = self.linear_relu_stack(x)\n",
    "        #logits = nn.functional.softmax(logits, dim=1)\n",
    "        return logits\n",
    "        #return self.linear_relu_stack[2](x)"
   ]
  },
  {
   "cell_type": "code",
   "execution_count": 99,
   "id": "fce295ff-599b-4a05-9ab3-507a8b000d79",
   "metadata": {},
   "outputs": [
    {
     "name": "stdout",
     "output_type": "stream",
     "text": [
      "torch.Size([3, 527, 1])\n",
      "torch.Size([3, 527])\n"
     ]
    }
   ],
   "source": [
    "input_image = torch.rand(3,527,1)\n",
    "print(input_image.size())\n",
    "flatten = nn.Flatten()\n",
    "flat_image = flatten(input_image)\n",
    "print(flat_image.size())"
   ]
  },
  {
   "cell_type": "code",
   "execution_count": 116,
   "id": "ecf97369-53e5-410a-b142-ef03c2a860fe",
   "metadata": {},
   "outputs": [
    {
     "name": "stdout",
     "output_type": "stream",
     "text": [
      "NeuralNetwork(\n",
      "  (flatten): Flatten(start_dim=1, end_dim=-1)\n",
      "  (linear_relu_stack): Sequential(\n",
      "    (0): Linear(in_features=527, out_features=1024, bias=True)\n",
      "    (1): ReLU()\n",
      "    (2): Linear(in_features=1024, out_features=100, bias=True)\n",
      "    (3): ReLU()\n",
      "    (4): Linear(in_features=100, out_features=1, bias=True)\n",
      "    (5): Sigmoid()\n",
      "  )\n",
      ")\n"
     ]
    }
   ],
   "source": [
    "model = NeuralNetwork().to(device)\n",
    "print(model)\n",
    "lr = 0.01"
   ]
  },
  {
   "cell_type": "code",
   "execution_count": null,
   "id": "e93f904b-c8c1-46e4-812e-a52d56832070",
   "metadata": {},
   "outputs": [],
   "source": []
  }
 ],
 "metadata": {
  "kernelspec": {
   "display_name": "Python 3 (ipykernel)",
   "language": "python",
   "name": "python3"
  },
  "language_info": {
   "codemirror_mode": {
    "name": "ipython",
    "version": 3
   },
   "file_extension": ".py",
   "mimetype": "text/x-python",
   "name": "python",
   "nbconvert_exporter": "python",
   "pygments_lexer": "ipython3",
   "version": "3.10.9"
  }
 },
 "nbformat": 4,
 "nbformat_minor": 5
}
